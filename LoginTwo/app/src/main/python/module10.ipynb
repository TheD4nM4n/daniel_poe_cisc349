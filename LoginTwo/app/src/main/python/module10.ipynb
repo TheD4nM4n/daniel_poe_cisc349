{
 "cells": [
  {
   "cell_type": "markdown",
   "metadata": {},
   "source": [
    "## Question 1\n",
    "\n",
    "- p -> not q\n",
    "  - p: angus sings\n",
    "  - q: bertie sulks\n",
    "- p ^ q\n",
    "  - p: cyril runs\n",
    "  - q: cyril barks\n",
    "- p -> not q\n",
    "  - p: it will snow\n",
    "  - q: it will rain\n",
    "- not p -> q or z\n",
    "  - p: irene will be happy\n",
    "  - q: olive comes\n",
    "  - z: tofu comes\n",
    "- not (p or q)\n",
    "  - p: pat coughed\n",
    "  - q: pat sneezed\n",
    "- (p -> not q) -> (x -> not y)\n",
    "  - p: i call\n",
    "  - q: you come\n",
    "  - x: you call\n",
    "  - y: i come"
   ]
  },
  {
   "cell_type": "markdown",
   "metadata": {},
   "source": [
    "## Exercise 2\n",
    "\n",
    "- likes(angus, cyril) ^ hates(irene, cyril)\n",
    "- taller(tofu, bertie)\n",
    "- loves(bruce, bruce) ^ loves(pat, pat)\n",
    "- saw(cyril, bertie) ^ saw(angus, bertie)\n",
    "- is(cyril, \"four-legged friend\")\n",
    "- near(tofu, olive) ^ near(olive, tofu)"
   ]
  },
  {
   "cell_type": "markdown",
   "metadata": {},
   "source": [
    "## Exercise 3\n",
    "- Ex(likes(angus, x)) ^ Ex(likes(x, julia))\n",
    "- Ex(loves(angus, x) ^ loves(x, angus))\n",
    "- Ax(not smiles(x, pat))\n",
    "- Ax(not coughed(x) ^ not sneezed(x))\n",
    "- Ex(x != bruce ^ loves(bruce, y))\n",
    "- Ax(x != matthew ^ loves(x, pat))\n",
    "  - it says \"loves somebody Pat\", unsure what that means so i interpreted it as \"loves Pat\"\n",
    "- Ax(x != irene ^ likes(cyril, x))\n",
    "- just not sure how to do this one."
   ]
  },
  {
   "cell_type": "markdown",
   "metadata": {},
   "source": [
    "## Exercise 4\n",
    "- λx.feed(x) ^ λx.λy.give(angus, cappuccino)\n",
    "- λx.given(x, \"War and Peace\")\n",
    "  - this one is most certainly not right\n",
    "- Ax(λy.loved(y, x))\n",
    "- Ax(λy.loved(y, x) V λy.detested(y, x))\n",
    "- Ax(λy.loved(y, x)) ^ Ax(not λy.detested(y, x))"
   ]
  }
 ],
 "metadata": {
  "language_info": {
   "name": "python"
  }
 },
 "nbformat": 4,
 "nbformat_minor": 2
}
